{
 "cells": [
  {
   "cell_type": "markdown",
   "metadata": {},
   "source": [
    "Создайте модуль \"shopping_list.py\", который будет реализовывать функционал списка покупок.\n",
    "Внутри должны быть функции add_item (для добавления в список, например «Хлеб, 2», где «Хлеб» - ключ, «2» - значение\n",
    "                                     , которой по умолчанию в функции равно 0), remove_item для удаления покупки из списка,\n",
    "edit_quantity для редактирования количества (то есть значения), view_list для отображения всего списка (то есть словаря). \n",
    "Создайте новый файл, куда вы импортируете созданный модуль и отобразите работу каждый из этих функций. Например, пользователь \n",
    "сначала добавил в список три покупки: Хлеб – 2, Молоко, Яйца – 10, далее посмотрел этот список; потом он понял, что не хочет молоко, удалил его, \n",
    "посмотрел измененный список; потом решил, что 10 яиц – это много, и поменял их количество на 7 и в конце решил посмотреть на итоговый список"
   ]
  },
  {
   "cell_type": "code",
   "execution_count": 2,
   "metadata": {},
   "outputs": [],
   "source": [
    "shopping_list = {}\n",
    "\n",
    "def add_item(item, quantity=0):\n",
    "    shopping_list[item] = quantity\n",
    "\n",
    "def remove_item(item):\n",
    "    if item in shopping_list:\n",
    "        del shopping_list[item]\n",
    "    else:\n",
    "        print(f\"{item} не найден в списке.\")\n",
    "\n",
    "def edit_quantity(item, quantity):\n",
    "    if item in shopping_list:\n",
    "        shopping_list[item] = quantity\n",
    "    else:\n",
    "        print(f\"{item} не найден в списке.\")\n",
    "\n",
    "def view_list():\n",
    "    return shopping_list"
   ]
  },
  {
   "cell_type": "code",
   "execution_count": 3,
   "metadata": {},
   "outputs": [
    {
     "name": "stdout",
     "output_type": "stream",
     "text": [
      "Список покупок: {'Хлеб': 2, 'Молоко': 0, 'Яйца': 10}\n",
      "Список покупок после удаления молока: {'Хлеб': 2, 'Яйца': 10}\n",
      "Итоговый список покупок: {'Хлеб': 2, 'Яйца': 7}\n"
     ]
    }
   ],
   "source": [
    "add_item(\"Хлеб\", 2)\n",
    "add_item(\"Молоко\")\n",
    "add_item(\"Яйца\", 10)\n",
    "\n",
    "print(\"Список покупок:\", view_list())\n",
    "\n",
    "remove_item(\"Молоко\")\n",
    "\n",
    "print(\"Список покупок после удаления молока:\", view_list())\n",
    "\n",
    "edit_quantity(\"Яйца\", 7)\n",
    "\n",
    "print(\"Итоговый список покупок:\", view_list())"
   ]
  }
 ],
 "metadata": {
  "kernelspec": {
   "display_name": "Python 3",
   "language": "python",
   "name": "python3"
  },
  "language_info": {
   "codemirror_mode": {
    "name": "ipython",
    "version": 3
   },
   "file_extension": ".py",
   "mimetype": "text/x-python",
   "name": "python",
   "nbconvert_exporter": "python",
   "pygments_lexer": "ipython3",
   "version": "3.12.6"
  }
 },
 "nbformat": 4,
 "nbformat_minor": 2
}
