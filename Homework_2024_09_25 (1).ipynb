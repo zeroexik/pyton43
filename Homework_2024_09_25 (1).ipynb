{
 "cells": [
  {
   "cell_type": "markdown",
   "metadata": {},
   "source": [
    "### Сортировка файлов по размеру\n",
    "\n",
    "Напишите программу, которая сортирует файлы в данной директории по размеру (от меньшего к большему). Для этого неплохо было бы несколько файлов или создать вручную, если в директории с этой тетрадкой кроме нее ничего нет, либо перенести несколько случайных файлов в нее, после чего можно будет проверить работу кода. По итогу вы должны вывести список файлов директории с заданным ранее условием"
   ]
  },
  {
   "cell_type": "code",
   "execution_count": 1,
   "metadata": {},
   "outputs": [
    {
     "name": "stdout",
     "output_type": "stream",
     "text": [
      "arrays methods (1).txt: 278 bytes\n",
      "arrays methods.txt: 278 bytes\n",
      "desktop.ini: 282 bytes\n",
      "index (1).zip: 303 bytes\n",
      "index (2).zip: 303 bytes\n",
      "index (3).zip: 415 bytes\n",
      "index.zip: 415 bytes\n",
      "Задачи. Строки. (1).txt: 658 bytes\n",
      "Задачи. Строки..txt: 658 bytes\n",
      "1 (1).txt: 743 bytes\n",
      "1.txt: 743 bytes\n",
      "дз (1).txt: 758 bytes\n",
      "дз (2).txt: 758 bytes\n",
      "дз.txt: 758 bytes\n",
      "dz js 2.zip: 806 bytes\n",
      "Array.txt: 878 bytes\n",
      "Носки моща (1).txt: 1422 bytes\n",
      "Носки моща (2).txt: 1422 bytes\n",
      "Носки моща.txt: 1422 bytes\n",
      "index.html: 1906 bytes\n",
      "index (1).html: 2050 bytes\n",
      "Homework_2024_09_25.ipynb: 4166 bytes\n",
      "Homework_2024_09_25 (1).ipynb: 4427 bytes\n",
      "HW_2024_09_16 (1).ipynb: 4984 bytes\n",
      "HW_2024_09_16.ipynb: 5435 bytes\n",
      "HW_2024_09_16 (2).ipynb: 8352 bytes\n",
      "https.docx: 12262 bytes\n",
      "Untitled-1.ipynb: 12619 bytes\n",
      "running line.png: 13291 bytes\n",
      "алгоритм вождения машины.docx: 16817 bytes\n",
      "i (1).png: 22150 bytes\n",
      "i.png: 22150 bytes\n",
      "HW_2024_09_16 (1).pdf: 56374 bytes\n",
      "HW_2024_09_16 (2).pdf: 56374 bytes\n",
      "HW_2024_09_16 (3).pdf: 56374 bytes\n",
      "HW_2024_09_16 (4).pdf: 56374 bytes\n",
      "HW_2024_09_16 (5).pdf: 56374 bytes\n",
      "HW_2024_09_16.pdf: 56374 bytes\n",
      "Microsoft_Office_2024_Windows_10.torrent: 104403 bytes\n",
      "Таблицы, фреймы и формы (1).pdf: 436515 bytes\n",
      "Таблицы, фреймы и формы (2).pdf: 436515 bytes\n",
      "Таблицы, фреймы и формы.pdf: 436515 bytes\n",
      "head (2).png: 553477 bytes\n",
      "head.png: 553477 bytes\n",
      "Python_DZ_Modul__03_Cikly_c_4_1573634240.pdf: 622202 bytes\n",
      "Python_DZ_Modul__02_Operatory_vetvlenij_c_1_1573140548 (1).pdf: 623920 bytes\n",
      "Python_DZ_Modul__02_Operatory_vetvlenij_c_1_1573140548.pdf: 623920 bytes\n",
      "Python_DZ_Modul__01_Vvedenie_c_1_1573140367 (1).pdf: 627461 bytes\n",
      "Python_DZ_Modul__01_Vvedenie_c_1_1573140367.pdf: 627461 bytes\n",
      "flex.pdf: 700444 bytes\n",
      "блоки (1).pdf: 724222 bytes\n",
      "блоки.pdf: 724222 bytes\n",
      "Стили (1).pdf: 872505 bytes\n",
      "Стили (2).pdf: 872505 bytes\n",
      "Стили (3).pdf: 872505 bytes\n",
      "Стили.pdf: 872505 bytes\n",
      "homework (1).pdf: 940783 bytes\n",
      "homework (2).pdf: 940783 bytes\n",
      "homework (3).pdf: 940783 bytes\n",
      "homework (4).pdf: 940783 bytes\n",
      "homework (5).pdf: 940783 bytes\n",
      "homework (6).pdf: 940783 bytes\n",
      "homework (7).pdf: 940783 bytes\n",
      "homework.pdf: 940783 bytes\n",
      "IT top (1).pdf: 971091 bytes\n",
      "IT top (2).pdf: 971091 bytes\n",
      "IT top (3).pdf: 971091 bytes\n",
      "IT top (4).pdf: 971091 bytes\n",
      "IT top (5).pdf: 971091 bytes\n",
      "IT top (6).pdf: 971091 bytes\n",
      "IT top (7).pdf: 971091 bytes\n",
      "IT top.pdf: 971091 bytes\n",
      "main.png: 1593613 bytes\n",
      "IT top (1).zip: 1607126 bytes\n",
      "IT top (2).zip: 1607126 bytes\n",
      "OperaGXSetup.exe: 3236728 bytes\n",
      "RobloxPlayerInstaller.exe: 6841752 bytes\n",
      "IT top.zip: 7364976 bytes\n",
      "python-3.12.6-amd64.exe: 26527368 bytes\n",
      "Git-2.46.0-64-bit.exe: 68220888 bytes\n"
     ]
    }
   ],
   "source": [
    "\n",
    "import os\n",
    "\n",
    "files = [f for f in os.listdir() if os.path.isfile(f)]\n",
    "\n",
    "files_sorted = sorted(files, key=lambda f: os.path.getsize(f))\n",
    "\n",
    "for file in files_sorted:\n",
    "    print(f\"{file}: {os.path.getsize(file)} bytes\")"
   ]
  },
  {
   "cell_type": "markdown",
   "metadata": {},
   "source": [
    "### Создание директорий\n",
    "\n",
    "Напишите программу, которая создает серию вложенных директорий с использованием цикла. Например, создать директорию \"А\", в которой будет лежать директория \"B\", в которой будет лежать директория \"C\" (названия директорий латиницей). В конце вы должны вывести, что содержится в каждой из этих директорий"
   ]
  },
  {
   "cell_type": "code",
   "execution_count": 2,
   "metadata": {},
   "outputs": [],
   "source": [
    "import os\n",
    "\n",
    "def create_nested_directories(base_directory):\n",
    "    nested_dirs = ['A', 'B', 'C']\n",
    "    current_path = base_directory\n",
    "    \n",
    "    for dir_name in nested_dirs:\n",
    "        current_path = os.path.join(current_path, dir_name)\n",
    "        os.makedirs(current_path, exist_ok=True)"
   ]
  },
  {
   "cell_type": "markdown",
   "metadata": {},
   "source": [
    "### Поиск файлов по расширению\n",
    "\n",
    "Напишите программу, которая выводит имена всех файлов с расширением, например, \".txt\" в определенной директории и всех поддиректориях"
   ]
  },
  {
   "cell_type": "code",
   "execution_count": 4,
   "metadata": {},
   "outputs": [],
   "source": [
    "import os\n",
    "\n",
    "def find_files_with_extension(directory, extension):\n",
    "\n",
    "    for root, dirs, files in os.walk(directory):\n",
    "        for filename in files:\n",
    "\n",
    "            if filename.endswith(extension):\n",
    "       \n",
    "                print(os.path.join(root, filename))\n"
   ]
  },
  {
   "cell_type": "markdown",
   "metadata": {},
   "source": [
    "### Получение информации о файле\n",
    "\n",
    "Напишите программу, которая выводит информацию о файле: имя, размер, дату модификации, тип файла (файл/директория)"
   ]
  },
  {
   "cell_type": "code",
   "execution_count": 5,
   "metadata": {},
   "outputs": [],
   "source": [
    "import os\n",
    "from datetime import datetime\n",
    "\n",
    "def get_file_info(file_path):\n",
    "\n",
    "    file_name = os.path.basename(file_path)\n",
    "    \n",
    "    file_size = os.path.getsize(file_path)\n",
    "    \n",
    "    modification_time = os.path.getmtime(file_path)\n",
    "    modification_time_readable = datetime.fromtimestamp(modification_time).strftime('%Y-%m-%d %H:%M:%S')\n",
    "    \n",
    "    if os.path.isfile(file_path):\n",
    "        file_type = \"Файл\"\n",
    "    elif os.path.isdir(file_path):\n",
    "        file_type = \"Директория\"\n",
    "    else:\n",
    "        file_type = \"Неизвестно\"\n",
    "\n",
    "    print(f\"Имя: {file_name}\")\n",
    "    print(f\"Размер: {file_size} байт\")\n",
    "    print(f\"Дата модификации: {modification_time_readable}\")\n",
    "    print(f\"Тип: {file_type}\")\n"
   ]
  },
  {
   "cell_type": "markdown",
   "metadata": {},
   "source": [
    "### Проверка e-mail адреса\n",
    "\n",
    "Напишите программу, которая запрашивает у пользователя ввести e-mail адрес и проверяет введенную строку с помощью регулярных выражений, является ли она типовым e-mail адресом. В случае, если да, программа должны вывести \"Всё верно\", если же нет, то \"Вы допустили ошибку в e-mail адресе\""
   ]
  },
  {
   "cell_type": "code",
   "execution_count": 2,
   "metadata": {},
   "outputs": [
    {
     "name": "stdout",
     "output_type": "stream",
     "text": [
      "Всё верно\n"
     ]
    }
   ],
   "source": [
    "import re\n",
    "\n",
    "email = input(\"Введите ваш e-mail адрес: \")\n",
    "\n",
    "email_pattern = r'^[a-zA-Z0-9_.+-]+@[a-zA-Z0-9-]+\\.[a-zA-Z0-9-.]+$'\n",
    "\n",
    "if re.match(email_pattern, email):\n",
    "    print(\"Всё верно\")\n",
    "else:\n",
    "    print(\"Вы допустили ошибку в e-mail адресе\")\n"
   ]
  }
 ],
 "metadata": {
  "kernelspec": {
   "display_name": "Python 3",
   "language": "python",
   "name": "python3"
  },
  "language_info": {
   "codemirror_mode": {
    "name": "ipython",
    "version": 3
   },
   "file_extension": ".py",
   "mimetype": "text/x-python",
   "name": "python",
   "nbconvert_exporter": "python",
   "pygments_lexer": "ipython3",
   "version": "3.12.6"
  }
 },
 "nbformat": 4,
 "nbformat_minor": 2
}
