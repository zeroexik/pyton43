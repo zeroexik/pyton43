{
 "cells": [
  {
   "cell_type": "code",
   "execution_count": 1,
   "metadata": {},
   "outputs": [
    {
     "name": "stdout",
     "output_type": "stream",
     "text": [
      "Строка не является палиндромом.\n"
     ]
    }
   ],
   "source": [
    "def is_palindrome(s):\n",
    "    cleaned_s = ''.join(s.lower().split())\n",
    "    return cleaned_s == cleaned_s[::-1]\n",
    "\n",
    "user_input = input(\"Введите строку: \")\n",
    "\n",
    "if is_palindrome(user_input):\n",
    "    print(\"Строка является палиндромом.\")\n",
    "else:\n",
    "    print(\"Строка не является палиндромом.\")"
   ]
  },
  {
   "cell_type": "code",
   "execution_count": 4,
   "metadata": {},
   "outputs": [
    {
     "name": "stdout",
     "output_type": "stream",
     "text": [
      "Измененный текст: ПРИВЕТ Стейси, ты свободна сегодня?\n"
     ]
    }
   ],
   "source": [
    "text = input(\"Введите текст: \")\n",
    "\n",
    "reserved_words = input(\"Введите зарезервированные слова через запятую: \").split(',')\n",
    "\n",
    "for word in reserved_words:\n",
    "    text = text.replace(word.strip(), word.strip().upper())\n",
    "\n",
    "print(\"Измененный текст:\", text)"
   ]
  },
  {
   "cell_type": "code",
   "execution_count": 6,
   "metadata": {},
   "outputs": [
    {
     "name": "stdout",
     "output_type": "stream",
     "text": [
      "Количество предложений: 1\n"
     ]
    }
   ],
   "source": [
    "text = input(\"Введите текст: \")\n",
    "\n",
    "sentences = [s for s in text.replace('!', '.').replace('?', '.').split('.') if s.strip()]\n",
    "\n",
    "print(\"Количество предложений:\", len(sentences))"
   ]
  }
 ],
 "metadata": {
  "kernelspec": {
   "display_name": "Python 3",
   "language": "python",
   "name": "python3"
  },
  "language_info": {
   "codemirror_mode": {
    "name": "ipython",
    "version": 3
   },
   "file_extension": ".py",
   "mimetype": "text/x-python",
   "name": "python",
   "nbconvert_exporter": "python",
   "pygments_lexer": "ipython3",
   "version": "3.13.0"
  }
 },
 "nbformat": 4,
 "nbformat_minor": 2
}
