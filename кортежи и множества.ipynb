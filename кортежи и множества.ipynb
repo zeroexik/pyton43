{
 "cells": [
  {
   "cell_type": "markdown",
   "metadata": {},
   "source": [
    "Есть три кортежа целых чисел необходимо найти\n",
    "элементы, которые есть во всех кортежах."
   ]
  },
  {
   "cell_type": "code",
   "execution_count": 8,
   "metadata": {},
   "outputs": [
    {
     "name": "stdout",
     "output_type": "stream",
     "text": [
      "[5]\n"
     ]
    }
   ],
   "source": [
    "numbers1 = (1, 2, 3, 4, 5)\n",
    "numbers2 = (3, 4, 5, 6, 7)\n",
    "numbers3 = (5, 6, 7, 8, 9)\n",
    "common_elements = []\n",
    "for item in numbers1:\n",
    "    # Если элемент есть во втором и третьем кортежах, добавляем его в список\n",
    "    if item in numbers2 and item in numbers3:\n",
    "        common_elements.append(item)\n",
    "\n",
    "print(common_elements)  # Вывод: [5]"
   ]
  },
  {
   "cell_type": "markdown",
   "metadata": {},
   "source": [
    "Есть три кортежа целых чисел необходимо найти\n",
    "элементы, которые уникальны для каждого списка."
   ]
  },
  {
   "cell_type": "code",
   "execution_count": 7,
   "metadata": {},
   "outputs": [
    {
     "name": "stdout",
     "output_type": "stream",
     "text": [
      "Уникальные элементы в tuple1: [1, 2]\n",
      "Уникальные элементы в tuple2: [8, 9]\n",
      "Уникальные элементы в tuple3: [10]\n"
     ]
    }
   ],
   "source": [
    "numbers1 = (1, 2, 3, 4, 5)\n",
    "numbers2 = (3, 4, 10, 6, 7)\n",
    "numbers3 = (5, 6, 7, 8, 9)\n",
    "unique_to_numbers1 = [item for item in numbers1 if item not in numbers2 and item not in numbers3]\n",
    "unique_to_numbers2 = [item for item in numbers3 if item not in numbers2 and item not in numbers1]\n",
    "unique_to_numbers3 = [item for item in numbers2 if item not in numbers3 and item not in numbers1]     \n",
    "print(\"Уникальные элементы в tuple1:\", unique_to_numbers1)\n",
    "print(\"Уникальные элементы в tuple2:\", unique_to_numbers2)\n",
    "\n",
    "\n",
    "print(\"Уникальные элементы в tuple3:\", unique_to_numbers3)"
   ]
  },
  {
   "cell_type": "markdown",
   "metadata": {},
   "source": [
    "Есть три кортежа целых чисел необходимо найти элементы, которые есть в каждом из кортежей и находятся\n",
    "в каждом из кортежей на той же позиции."
   ]
  },
  {
   "cell_type": "code",
   "execution_count": 9,
   "metadata": {},
   "outputs": [
    {
     "name": "stdout",
     "output_type": "stream",
     "text": [
      "Элементы, которые есть в каждом кортеже на одной и той же позиции: [1, 3, 4]\n"
     ]
    }
   ],
   "source": [
    "numbers1 = (1, 2, 3, 4, 5)\n",
    "numbers2 = (1, 0, 3, 4, 8)\n",
    "numbers3 = (1, 2, 3, 4, 5)\n",
    "\n",
    "common_elements = []\n",
    "\n",
    "for i in range(len(numbers1)):\n",
    "    if numbers1[i] == numbers2[i] == numbers3[i]:\n",
    "        common_elements.append(numbers1[i])\n",
    "\n",
    "print(\"Элементы, которые есть в каждом кортеже на одной и той же позиции:\", common_elements)"
   ]
  }
 ],
 "metadata": {
  "kernelspec": {
   "display_name": "Python 3",
   "language": "python",
   "name": "python3"
  },
  "language_info": {
   "codemirror_mode": {
    "name": "ipython",
    "version": 3
   },
   "file_extension": ".py",
   "mimetype": "text/x-python",
   "name": "python",
   "nbconvert_exporter": "python",
   "pygments_lexer": "ipython3",
   "version": "3.12.2"
  }
 },
 "nbformat": 4,
 "nbformat_minor": 2
}
