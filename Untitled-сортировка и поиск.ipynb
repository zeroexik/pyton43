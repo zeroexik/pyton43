{
 "cells": [
  {
   "cell_type": "code",
   "execution_count": 1,
   "metadata": {},
   "outputs": [
    {
     "name": "stdout",
     "output_type": "stream",
     "text": [
      "[-2, -1, 1, 3, 4, 5, 3, 8, 6]\n"
     ]
    }
   ],
   "source": [
    "def sort_special_list(lst):\n",
    "    if not lst:\n",
    "        return lst\n",
    "\n",
    "    mean_value = sum(lst) / len(lst)\n",
    "   \n",
    "    first_third_end = len(lst) // 3\n",
    "    two_thirds_end = 2 * len(lst) // 3\n",
    "\n",
    "    first_part = lst[:two_thirds_end]\n",
    "    last_part = lst[two_thirds_end:]\n",
    "\n",
    "    if mean_value > 0:\n",
    "   \n",
    "        first_part = sorted(first_part)\n",
    "    else:\n",
    "        first_part[:first_third_end] = sorted(first_part[:first_third_end])\n",
    "\n",
    "    last_part = last_part[::-1]\n",
    "\n",
    "    return first_part + last_part\n",
    "\n",
    "numbers = [3, 1, -2, 4, 5, -1, 6, 8, 3]\n",
    "sorted_numbers = sort_special_list(numbers)\n",
    "print(sorted_numbers)"
   ]
  },
  {
   "cell_type": "code",
   "execution_count": 5,
   "metadata": {},
   "outputs": [
    {
     "name": "stdout",
     "output_type": "stream",
     "text": [
      "\n",
      "Меню:\n",
      "1. Вывод оценок\n",
      "2. Пересдача экзамена\n",
      "3. Проверка стипендии\n",
      "4. Вывод отсортированного списка оценок\n",
      "5. Выход\n",
      "Оценка обновлена.\n",
      "\n",
      "Меню:\n",
      "1. Вывод оценок\n",
      "2. Пересдача экзамена\n",
      "3. Проверка стипендии\n",
      "4. Вывод отсортированного списка оценок\n",
      "5. Выход\n",
      "Выход из программы.\n"
     ]
    }
   ],
   "source": [
    "def main():\n",
    "\n",
    "    grades = []\n",
    "    for i in range(10):\n",
    "        while True:\n",
    "            try:\n",
    "                grade = float(input(f\"Введите оценку {i + 1} (от 1 до 12): \"))\n",
    "                if 1 <= grade <= 12:\n",
    "                    grades.append(grade)\n",
    "                    break\n",
    "                else:\n",
    "                    print(\"Оценка должна быть от 1 до 12. Попробуйте еще раз.\")\n",
    "            except ValueError:\n",
    "                print(\"Некорректный ввод. Пожалуйста, введите числовое значение.\")\n",
    "    \n",
    "    while True:\n",
    "        print(\"\\nМеню:\")\n",
    "        print(\"1. Вывод оценок\")\n",
    "        print(\"2. Пересдача экзамена\")\n",
    "        print(\"3. Проверка стипендии\")\n",
    "        print(\"4. Вывод отсортированного списка оценок\")\n",
    "        print(\"5. Выход\")\n",
    "        \n",
    "        choice = input(\"Введите номер действия: \")\n",
    "        \n",
    "        if choice == '1':\n",
    "            print(\"Оценки:\", grades)\n",
    "        elif choice == '2':\n",
    "            index = int(input(\"Введите номер элемента списка (от 1 до 10): \")) - 1\n",
    "            if 0 <= index < 10:\n",
    "                new_grade = float(input(\"Введите новую оценку (от 1 до 12): \"))\n",
    "                if 1 <= new_grade <= 12:\n",
    "                    grades[index] = new_grade\n",
    "                    print(\"Оценка обновлена.\")\n",
    "                else:\n",
    "                    print(\"Оценка должна быть от 1 до 12.\")\n",
    "            else:\n",
    "                print(\"Некорректный номер элемента списка.\")\n",
    "        elif choice == '3':\n",
    "            average = sum(grades) / len(grades)\n",
    "            print(\"Студент получает стипендию.\" if average >= 10.7 else \"Студент не получает стипендию.\")\n",
    "        elif choice == '4':\n",
    "            sort_order = input(\"Введите '1' для сортировки по возрастанию или '2' для убывания: \")\n",
    "            if sort_order == '1':\n",
    "                print(\"Сортированные оценки (по возрастанию):\", sorted(grades))\n",
    "            elif sort_order == '2':\n",
    "                print(\"Сортированные оценки (по убыванию):\", sorted(grades, reverse=True))\n",
    "            else:\n",
    "                print(\"Некорректный ввод.\")\n",
    "        elif choice == '5':\n",
    "            print(\"Выход из программы.\")\n",
    "            break\n",
    "        else:\n",
    "            print(\"Некорректный ввод. Попробуйте еще раз.\")\n",
    "\n",
    "if __name__ == \"__main__\":\n",
    "    main()"
   ]
  },
  {
   "cell_type": "code",
   "execution_count": 6,
   "metadata": {},
   "outputs": [
    {
     "name": "stdout",
     "output_type": "stream",
     "text": [
      "Исходный список: [64, 34, 25, 12, 22, 11, 90]\n",
      "После 1-й прохода: [34, 25, 12, 22, 11, 64, 90]\n",
      "После 2-й прохода: [25, 12, 22, 11, 34, 64, 90]\n",
      "После 3-й прохода: [12, 22, 11, 25, 34, 64, 90]\n",
      "После 4-й прохода: [12, 11, 22, 25, 34, 64, 90]\n",
      "После 5-й прохода: [11, 12, 22, 25, 34, 64, 90]\n",
      "После 6-й прохода: [11, 12, 22, 25, 34, 64, 90]\n",
      "Отсортированный список: [11, 12, 22, 25, 34, 64, 90]\n"
     ]
    }
   ],
   "source": [
    "def bubble_sort(arr):\n",
    "    n = len(arr)\n",
    "    for i in range(n):\n",
    "        swap_count = 0\n",
    "        for j in range(0, n - i - 1):\n",
    "            if arr[j] > arr[j + 1]:\n",
    "                arr[j], arr[j + 1] = arr[j + 1], arr[j]\n",
    "                swap_count += 1\n",
    "        print(f\"После {i+1}-й прохода: {arr}\")\n",
    "        if swap_count == 0:\n",
    "            break\n",
    "\n",
    "numbers = [64, 34, 25, 12, 22, 11, 90]\n",
    "print(\"Исходный список:\", numbers)\n",
    "bubble_sort(numbers)\n",
    "print(\"Отсортированный список:\", numbers)"
   ]
  }
 ],
 "metadata": {
  "kernelspec": {
   "display_name": "Python 3",
   "language": "python",
   "name": "python3"
  },
  "language_info": {
   "codemirror_mode": {
    "name": "ipython",
    "version": 3
   },
   "file_extension": ".py",
   "mimetype": "text/x-python",
   "name": "python",
   "nbconvert_exporter": "python",
   "pygments_lexer": "ipython3",
   "version": "3.12.6"
  }
 },
 "nbformat": 4,
 "nbformat_minor": 2
}
