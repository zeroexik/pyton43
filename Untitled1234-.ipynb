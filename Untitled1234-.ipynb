{
 "cells": [
  {
   "cell_type": "code",
   "execution_count": 2,
   "metadata": {},
   "outputs": [
    {
     "name": "stdout",
     "output_type": "stream",
     "text": [
      "Список 1: [19, 81, 39, 79, 56, 44, 82, 8, 28, 76]\n",
      "Список 2: [62, 43, 56, 17, 42, 3, 40, 54, 25, 40]\n",
      "Список - объединение обоих списков: [19, 81, 39, 79, 56, 44, 82, 8, 28, 76, 62, 43, 56, 17, 42, 3, 40, 54, 25, 40]\n",
      "Список - элементы без повторений: [3, 39, 8, 40, 42, 43, 44, 76, 79, 81, 82, 19, 17, 54, 56, 25, 28, 62]\n",
      "Список - общие элементы двух списков: [56]\n",
      "Список - уникальные элементы каждого из списков: [39, 8, 44, 76, 79, 81, 82, 19, 28, 3, 40, 42, 43, 17, 54, 25, 62]\n",
      "Список - минимальное и максимальное значение каждого из списков: [8, 82, 3, 62]\n"
     ]
    }
   ],
   "source": [
    "import random\n",
    "\n",
    "list_length = 10 \n",
    "min_value = 1\n",
    "max_value = 100\n",
    "\n",
    "list1 = [random.randint(min_value, max_value) for _ in range(list_length)]\n",
    "list2 = [random.randint(min_value, max_value) for _ in range(list_length)]\n",
    "print(\"Список 1:\", list1)\n",
    "print(\"Список 2:\", list2)\n",
    "\n",
    "merged_list = list1 + list2\n",
    "print(\"Список - объединение обоих списков:\", merged_list)\n",
    "\n",
    "unique_list = list(set(merged_list))\n",
    "print(\"Список - элементы без повторений:\", unique_list)\n",
    "\n",
    "common_list = list(set(list1) & set(list2))\n",
    "print(\"Список - общие элементы двух списков:\", common_list)\n",
    "\n",
    "unique_in_each = list(set(list1) - set(list2)) + list(set(list2) - set(list1))\n",
    "print(\"Список - уникальные элементы каждого из списков:\", unique_in_each)\n",
    "\n",
    "min_max_list = [min(list1), max(list1), min(list2), max(list2)]\n",
    "print(\"Список - минимальное и максимальное значение каждого из списков:\", min_max_list)"
   ]
  }
 ],
 "metadata": {
  "kernelspec": {
   "display_name": "Python 3",
   "language": "python",
   "name": "python3"
  },
  "language_info": {
   "codemirror_mode": {
    "name": "ipython",
    "version": 3
   },
   "file_extension": ".py",
   "mimetype": "text/x-python",
   "name": "python",
   "nbconvert_exporter": "python",
   "pygments_lexer": "ipython3",
   "version": "3.12.6"
  }
 },
 "nbformat": 4,
 "nbformat_minor": 2
}
