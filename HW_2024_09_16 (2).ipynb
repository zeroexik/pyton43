{
 "cells": [
  {
   "cell_type": "markdown",
   "metadata": {},
   "source": [
    "### Выполните все задания"
   ]
  },
  {
   "cell_type": "markdown",
   "metadata": {},
   "source": [
    "**1. Переменные и типы данных:**\n",
    "\n",
    "   * Создайте переменную `name` и присвойте ей ваше имя в виде строки.\n",
    "   * Создайте переменную `age` и присвойте ей ваш возраст в виде целого числа.\n",
    "   * Создайте переменную `is_student` и присвойте ей значение `True`, если вы студент (не Академии ТОР, а вуза), и `False` в противном случае.\n",
    "   * Выведите на экран значения всех трех переменных, используя функцию `print()`.\n",
    "   * Измените значение переменной `age` на новое число и снова выведите ее на экран."
   ]
  },
  {
   "cell_type": "code",
   "execution_count": 9,
   "metadata": {},
   "outputs": [
    {
     "name": "stdout",
     "output_type": "stream",
     "text": [
      "Имя: Иван\n",
      "Возраст: 30\n",
      "Студент: false\n",
      "15\n"
     ]
    }
   ],
   "source": [
    "name = 'Иван'\n",
    "age = 30\n",
    "is_student = False\n",
    "print(\"Имя:\", name)\n",
    "print(\"Возраст:\", age)\n",
    "print(\"Студент:\", is_student)\n",
    "age = 15\n",
    "print(age)\n"
   ]
  },
  {
   "cell_type": "markdown",
   "metadata": {},
   "source": [
    "**2. Математические операции:**\n",
    "\n",
    "   * Создайте переменные `a` и `b` и присвойте им значения 5 и 10 соответственно.\n",
    "   * Вычислите сумму, разность, произведение и частное от деления переменных `a` и `b`.\n",
    "   * Используйте оператор модуля (%), чтобы найти остаток от деления `b` на `a`.\n",
    "   * Выведите на экран результаты всех операций."
   ]
  },
  {
   "cell_type": "markdown",
   "metadata": {},
   "source": []
  },
  {
   "cell_type": "code",
   "execution_count": 7,
   "metadata": {},
   "outputs": [
    {
     "name": "stdout",
     "output_type": "stream",
     "text": [
      "Сумма: 15\n",
      "Разность: 5\n",
      "Произведение: 50\n",
      "Частное: 2.0\n",
      "Остаток от деления b на a: 0\n"
     ]
    }
   ],
   "source": [
    "a = 5\n",
    "b = 10\n",
    "sum_result = a + b\n",
    "difference = b - a\n",
    "product = a * b\n",
    "division = b / a\n",
    "remainder = b % a\n",
    "print(\"Сумма:\", sum_result)\n",
    "print(\"Разность:\", difference)\n",
    "print(\"Произведение:\", product)\n",
    "print(\"Частное:\", division)\n",
    "print(\"Остаток от деления b на a:\", remainder)"
   ]
  },
  {
   "cell_type": "markdown",
   "metadata": {},
   "source": [
    "**3. Строковые операции:**\n",
    "\n",
    "   * Создайте переменную `message` и присвойте ей строку \"Привет, мир!\".\n",
    "   * Используйте метод `upper()` для преобразования строки в верхний регистр.\n",
    "   * Используйте метод `lower()` для преобразования строки в нижний регистр.\n",
    "   * Используйте метод `replace()` для замены слова \"мир\" на \"вселенная\" в строке.\n",
    "   * Выведите на экран все полученные результаты."
   ]
  },
  {
   "cell_type": "code",
   "execution_count": 3,
   "metadata": {},
   "outputs": [
    {
     "name": "stdout",
     "output_type": "stream",
     "text": [
      "Верхний регистр: ПРИВЕТ, МИР!\n",
      "Нижний регистр: привет, мир!\n",
      "заменa: Привет, вселенная!\n"
     ]
    }
   ],
   "source": [
    "message = \"Привет, мир!\"\n",
    "upper_message = message.upper()\n",
    "lower_message = message.lower()\n",
    "replaced_message = message.replace(\"мир\", \"вселенная\")\n",
    "print(\"Верхний регистр:\", upper_message)\n",
    "print(\"Нижний регистр:\", lower_message)\n",
    "print(\"заменa:\", replaced_message)"
   ]
  },
  {
   "cell_type": "markdown",
   "metadata": {},
   "source": [
    "**4. Ввод и вывод:**\n",
    "\n",
    "   * Используйте функцию `input()` для получения имени пользователя с клавиатуры.\n",
    "   * Сохраните введенное имя в переменную `username`.\n",
    "   * Используйте функцию `print()` для вывода приветствия пользователю, используя его имя.\n",
    "   * Например, если пользователь введет \"Иван\", вы должны вывести \"Привет, Иван!\"."
   ]
  },
  {
   "cell_type": "code",
   "execution_count": 8,
   "metadata": {},
   "outputs": [
    {
     "name": "stdout",
     "output_type": "stream",
     "text": [
      "привет, епты!\n"
     ]
    }
   ],
   "source": [
    "username = input('введите ваше имя')\n",
    "print(f'привет, {username}!')"
   ]
  },
  {
   "cell_type": "markdown",
   "metadata": {},
   "source": [
    "**5. Дополнительные задания:**\n",
    "\n",
    "   * Создайте список с различными типами данных (например, строка, целое число, список, словарь).\n",
    "   * Добавьте в список новый элемент.\n",
    "   * Удалите элемент из списка.\n",
    "   * Измените значение элемента в списке.\n",
    "   * Предложите пользователю ввести что-то и пусть его ввод добавится в конец списка\n",
    "   * Выведите на экран содержимое списка."
   ]
  },
  {
   "cell_type": "code",
   "execution_count": 5,
   "metadata": {},
   "outputs": [
    {
     "name": "stdout",
     "output_type": "stream",
     "text": [
      "3.14 ['строка', 42, [1, 2, 3], {'ключ': 'значение'}, 3.14]\n",
      "['строка', [1, 2, 3], {'ключ': 'значение'}, 3.14]\n",
      "новая строка ['новая строка', [1, 2, 3], {'ключ': 'значение'}, 3.14]\n",
      "новый список ['новая строка', [1, 2, 3], {'ключ': 'значение'}, 3.14, ',td']\n"
     ]
    }
   ],
   "source": [
    "my_list = [\"строка\", 42, [1, 2, 3], {\"ключ\": \"значение\"}]\n",
    "\n",
    "my_list.append(3.14)\n",
    "print(my_list)\n",
    "\n",
    "my_list.remove(42)\n",
    "print(my_list)\n",
    "\n",
    "my_list[0] = \"новая строка\"\n",
    "print(my_list)\n",
    "\n",
    "user_input = input(\"новый список\")\n",
    "my_list.append(user_input)\n",
    "print(\"новый список\", my_list)"
   ]
  },
  {
   "cell_type": "markdown",
   "metadata": {},
   "source": [
    "#### Выполненную тетрадку загрузить на свой гитхаб в папку \"HW_2024_09_16\" и скинуть мне ссылку на нее."
   ]
  }
 ],
 "metadata": {
  "kernelspec": {
   "display_name": "Python 3",
   "language": "python",
   "name": "python3"
  },
  "language_info": {
   "codemirror_mode": {
    "name": "ipython",
    "version": 3
   },
   "file_extension": ".py",
   "mimetype": "text/x-python",
   "name": "python",
   "nbconvert_exporter": "python",
   "pygments_lexer": "ipython3",
   "version": "3.12.6"
  }
 },
 "nbformat": 4,
 "nbformat_minor": 2
}
