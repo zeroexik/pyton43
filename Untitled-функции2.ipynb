{
 "cells": [
  {
   "cell_type": "code",
   "execution_count": 3,
   "metadata": {},
   "outputs": [
    {
     "name": "stdout",
     "output_type": "stream",
     "text": [
      "Произведение элементов списка: 24\n"
     ]
    }
   ],
   "source": [
    "def multiply_elements(input_list):\n",
    "\n",
    "    product = 1\n",
    "\n",
    "    for number in input_list:\n",
    "        product *= number\n",
    "    return product\n",
    "\n",
    "numbers = [1, 2, 3, 4]\n",
    "result = multiply_elements(numbers)\n",
    "print(\"Произведение элементов списка:\", result)"
   ]
  },
  {
   "cell_type": "code",
   "execution_count": 4,
   "metadata": {},
   "outputs": [
    {
     "name": "stdout",
     "output_type": "stream",
     "text": [
      "Минимальное значение в списке: 1\n"
     ]
    }
   ],
   "source": [
    "def find_minimum(input_list):\n",
    "    if not input_list:\n",
    "        return \"Список пуст\"\n",
    "\n",
    "    minimum = input_list[0]\n",
    "\n",
    "    for number in input_list:\n",
    "        if number < minimum:\n",
    "            minimum = number\n",
    "\n",
    "    return minimum\n",
    "numbers = [5, 3, 8, 1, 4]\n",
    "result = find_minimum(numbers)\n",
    "print(\"Минимальное значение в списке:\", result)"
   ]
  },
  {
   "cell_type": "code",
   "execution_count": 5,
   "metadata": {},
   "outputs": [
    {
     "name": "stdout",
     "output_type": "stream",
     "text": [
      "Количество простых чисел в списке: 4\n"
     ]
    }
   ],
   "source": [
    "def is_prime(num):\n",
    "    if num < 2:\n",
    "        return False \n",
    "    for i in range(2, num):\n",
    "        if num % i == 0:\n",
    "            return False\n",
    "    return True\n",
    "\n",
    "def count_primes(input_list):\n",
    "    prime_count = 0\n",
    "    for number in input_list:\n",
    "        if is_prime(number):\n",
    "            prime_count += 1\n",
    "    return prime_count\n",
    "\n",
    "numbers = [3, 4, 5, 6, 7, 8, 9, 10, 11, 12]\n",
    "result = count_primes(numbers)\n",
    "print(\"Количество простых чисел в списке:\", result)"
   ]
  },
  {
   "cell_type": "code",
   "execution_count": 6,
   "metadata": {},
   "outputs": [
    {
     "name": "stdout",
     "output_type": "stream",
     "text": [
      "Количество удаленных элементов: 3\n",
      "Обновленный список: [1, 3, 4, 5]\n"
     ]
    }
   ],
   "source": [
    "def remove_number(input_list, number_to_remove):\n",
    "    count_removed = 0\n",
    "\n",
    "    for number in input_list[:]:\n",
    "        if number == number_to_remove:\n",
    "            input_list.remove(number)\n",
    "            count_removed += 1\n",
    "\n",
    "    return count_removed\n",
    "\n",
    "numbers = [1, 2, 3, 2, 4, 2, 5]\n",
    "number_to_remove = 2\n",
    "result = remove_number(numbers, number_to_remove)\n",
    "print(\"Количество удаленных элементов:\", result)\n",
    "print(\"Обновленный список:\", numbers)"
   ]
  },
  {
   "cell_type": "code",
   "execution_count": 9,
   "metadata": {},
   "outputs": [
    {
     "name": "stdout",
     "output_type": "stream",
     "text": [
      "Объединенный список: [1, 2, 3, 4, 5, 6]\n"
     ]
    }
   ],
   "source": [
    "def merge_lists(list1, list2):\n",
    "    merged_list = list1 + list2\n",
    "    return merged_list\n",
    "\n",
    "list_a = [1, 2, 3]\n",
    "list_b = [4, 5, 6]\n",
    "result = merge_lists(list_a, list_b)\n",
    "print(\"Объединенный список:\", result)"
   ]
  },
  {
   "cell_type": "code",
   "execution_count": 11,
   "metadata": {},
   "outputs": [
    {
     "name": "stdout",
     "output_type": "stream",
     "text": [
      "Результат: [1, 4, 9, 16]\n"
     ]
    }
   ],
   "source": [
    "def raise_to_power(input_list, power):\n",
    "    \n",
    "    result_list = [] \n",
    "    for number in input_list:\n",
    "        result_list.append(number ** power)\n",
    "    return result_list\n",
    "\n",
    "numbers = [1, 2, 3, 4]\n",
    "exponent = 2\n",
    "result = raise_to_power(numbers, exponent)\n",
    "print(\"Результат:\", result)"
   ]
  }
 ],
 "metadata": {
  "kernelspec": {
   "display_name": "Python 3",
   "language": "python",
   "name": "python3"
  },
  "language_info": {
   "codemirror_mode": {
    "name": "ipython",
    "version": 3
   },
   "file_extension": ".py",
   "mimetype": "text/x-python",
   "name": "python",
   "nbconvert_exporter": "python",
   "pygments_lexer": "ipython3",
   "version": "3.12.6"
  }
 },
 "nbformat": 4,
 "nbformat_minor": 2
}
