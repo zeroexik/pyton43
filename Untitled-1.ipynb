{
 "cells": [
  {
   "cell_type": "code",
   "execution_count": 1,
   "metadata": {},
   "outputs": [
    {
     "name": "stdout",
     "output_type": "stream",
     "text": [
      "Список 1: [10, 9, 6, 1, 2, 7, 1, 3, 3, 2]\n",
      "Список 2: [4, 9, 6, 6, 2, 5, 2, 4, 2, 9]\n",
      "Объединённый список: [10, 9, 6, 1, 2, 7, 1, 3, 3, 2, 4, 9, 6, 6, 2, 5, 2, 4, 2, 9]\n",
      "Список без повторений: [1, 2, 3, 4, 5, 6, 7, 9, 10]\n",
      "Общие элементы: [9, 6, 2, 2]\n",
      "Уникальные элементы в обоих списках: [1, 3, 4, 5, 7, 10]\n",
      "Минимальные и максимальные значения каждого списка: [1, 10, 2, 9]\n"
     ]
    }
   ],
   "source": [
    "import random\n",
    "\n",
    "list1 = [random.randint(1, 10) for _ in range(10)]\n",
    "list2 = [random.randint(1, 10) for _ in range(10)]\n",
    "\n",
    "print(\"Список 1:\", list1)\n",
    "print(\"Список 2:\", list2)\n",
    "\n",
    "list_combined = list1 + list2\n",
    "print(\"Объединённый список:\", list_combined)\n",
    "\n",
    "list_unique = list(set(list_combined))\n",
    "print(\"Список без повторений:\", list_unique)\n",
    "\n",
    "list_common = [i for i in list1 if i in list2]\n",
    "print(\"Общие элементы:\", list_common)\n",
    "\n",
    "list_unique_in_both = list(set(list1) ^ set(list2))\n",
    "print(\"Уникальные элементы в обоих списках:\", list_unique_in_both)\n",
    "\n",
    "min_max = [min(list1), max(list1), min(list2), max(list2)]\n",
    "print(\"Минимальные и максимальные значения каждого списка:\", min_max)"
   ]
  }
 ],
 "metadata": {
  "kernelspec": {
   "display_name": "Python 3",
   "language": "python",
   "name": "python3"
  },
  "language_info": {
   "codemirror_mode": {
    "name": "ipython",
    "version": 3
   },
   "file_extension": ".py",
   "mimetype": "text/x-python",
   "name": "python",
   "nbconvert_exporter": "python",
   "pygments_lexer": "ipython3",
   "version": "3.12.6"
  }
 },
 "nbformat": 4,
 "nbformat_minor": 2
}
