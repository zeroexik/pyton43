{
 "cells": [
  {
   "cell_type": "code",
   "execution_count": null,
   "metadata": {},
   "outputs": [],
   "source": [
    "import random\n",
    "\n",
    "list1 = [random.randint(1, 10) for _ in range(10)]\n",
    "list2 = [random.randint(1, 10) for _ in range(10)]\n",
    "\n",
    "print(\"Список 1:\", list1)\n",
    "print(\"Список 2:\", list2)\n",
    "\n",
    "list_combined = list1 + list2\n",
    "print(\"Объединённый список:\", list_combined)\n",
    "\n",
    "list_unique = list(set(list_combined))\n",
    "print(\"Список без повторений:\", list_unique)\n",
    "\n",
    "list_common = [i for i in list1 if i in list2]\n",
    "print(\"Общие элементы:\", list_common)\n",
    "\n",
    "list_unique_in_both = list(set(list1) ^ set(list2))\n",
    "print(\"Уникальные элементы в обоих списках:\", list_unique_in_both)\n",
    "\n",
    "min_max = [min(list1), max(list1), min(list2), max(list2)]\n",
    "print(\"Минимальные и максимальные значения каждого списка:\", min_max)"
   ]
  }
 ],
 "metadata": {
  "kernelspec": {
   "display_name": "Python 3",
   "language": "python",
   "name": "python3"
  },
  "language_info": {
   "name": "python",
   "version": "3.12.6"
  }
 },
 "nbformat": 4,
 "nbformat_minor": 2
}
