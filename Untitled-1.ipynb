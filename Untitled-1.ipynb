{
 "cells": [
  {
   "cell_type": "code",
   "execution_count": 1,
   "metadata": {},
   "outputs": [
    {
     "name": "stdout",
     "output_type": "stream",
     "text": [
      "Произведение трех чисел: 6.0\n"
     ]
    }
   ],
   "source": [
    "number1 = float(input('введите первое число'))\n",
    "number2 = float(input('введите второе число'))\n",
    "number3 = float(input('введите третье число'))\n",
    " \n",
    "choice = input(\"Введите 's' для суммы или 'p' для произведения: \")\n",
    "\n",
    "if choice.lower() == 's':\n",
    "    result = number1 + number2 + number3\n",
    "    print(f\"Сумма трех чисел: {result}\")\n",
    "elif choice.lower() == 'p':\n",
    "    result = number1 * number2 * number3\n",
    "    print(f\"Произведение трех чисел: {result}\")\n",
    "else:\n",
    "    print(\"Неверный ввод. Пожалуйста, введите 's' или 'p'.\")"
   ]
  },
  {
   "cell_type": "code",
   "execution_count": 2,
   "metadata": {},
   "outputs": [
    {
     "name": "stdout",
     "output_type": "stream",
     "text": [
      "Среднее арифметическое трех чисел: 2.0\n"
     ]
    }
   ],
   "source": [
    "number1 = float(input(\"Введите первое число: \"))\n",
    "number2 = float(input(\"Введите второе число: \"))\n",
    "number3 = float(input(\"Введите третье число: \"))\n",
    "\n",
    "choice = input(\"Введите 'max' для нахождения максимума, 'min' для нахождения минимума или 'avg' для среднеарифметического: \")\n",
    "\n",
    "if choice.lower() == 'max':\n",
    "    result = max(number1, number2, number3)\n",
    "    print(f\"Максимум из трех чисел: {result}\")\n",
    "elif choice.lower() == 'min':\n",
    "    result = min(number1, number2, number3)\n",
    "    print(f\"Минимум из трех чисел: {result}\")\n",
    "elif choice.lower() == 'avg':\n",
    "    result = (number1 + number2 + number3) / 3\n",
    "    print(f\"Среднее арифметическое трех чисел: {result}\")\n",
    "else:\n",
    "    print(\"Неверный ввод. Пожалуйста, введите 'max', 'min' или 'avg'.\")"
   ]
  },
  {
   "cell_type": "code",
   "execution_count": 4,
   "metadata": {},
   "outputs": [
    {
     "name": "stdout",
     "output_type": "stream",
     "text": [
      "Количество ярдов: 109.36132983377078\n"
     ]
    }
   ],
   "source": [
    "def метры_в_мили(метры):\n",
    "    return метры / 1609.34\n",
    "\n",
    "def метры_в_дюймы(метры):\n",
    "    return метры * 39.3701\n",
    "\n",
    "def метры_в_ярды(метры):\n",
    "    return метры / 0.9144\n",
    "\n",
    "метры = float(input(\"Введите количество метров: \"))\n",
    "\n",
    "выбор = input(\"Введите 'miles' для миль, 'inches' для дюймов или 'yards' для ярдов: \")\n",
    "\n",
    "if выбор.lower() == 'miles':\n",
    "    результат = метры_в_мили(метры)\n",
    "    print(f\"Количество миль: {результат}\")\n",
    "elif выбор.lower() == 'inches':\n",
    "    результат = метры_в_дюймы(метры)\n",
    "    print(f\"Количество дюймов: {результат}\")\n",
    "elif выбор.lower() == 'yards':\n",
    "    результат = метры_в_ярды(метры)\n",
    "    print(f\"Количество ярдов: {результат}\")\n",
    "else:\n",
    "    print(\"Неверный ввод. Пожалуйста, введите 'miles', 'inches' или 'yards'.\")"
   ]
  }
 ],
 "metadata": {
  "kernelspec": {
   "display_name": "Python 3",
   "language": "python",
   "name": "python3"
  },
  "language_info": {
   "codemirror_mode": {
    "name": "ipython",
    "version": 3
   },
   "file_extension": ".py",
   "mimetype": "text/x-python",
   "name": "python",
   "nbconvert_exporter": "python",
   "pygments_lexer": "ipython3",
   "version": "3.12.6"
  }
 },
 "nbformat": 4,
 "nbformat_minor": 2
}
