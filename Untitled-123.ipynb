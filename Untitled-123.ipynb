{
 "cells": [
  {
   "cell_type": "code",
   "execution_count": 2,
   "metadata": {},
   "outputs": [
    {
     "name": "stdout",
     "output_type": "stream",
     "text": [
      " не является палиндромом\n"
     ]
    }
   ],
   "source": [
    "n = input(\"input n:\")\n",
    "s = str(n)\n",
    "l = len(s)\n",
    "for i in range(l//2):\n",
    "    if s[i] != s[-1-i]:\n",
    "        print(\" не является палиндромом\")\n",
    "        break\n",
    "    else:\n",
    "        print(\"является палиндромом\")"
   ]
  },
  {
   "cell_type": "code",
   "execution_count": 3,
   "metadata": {},
   "outputs": [
    {
     "name": "stdout",
     "output_type": "stream",
     "text": [
      "Измененный текст:\n",
      "ПРИВЕТ как дела\n"
     ]
    }
   ],
   "source": [
    "text = input(\"Введите текст: \")  \n",
    "\n",
    "reserved_words_input = input(\"Введите зарезервированные слова, разделенные запятой: \")  \n",
    "\n",
    "reserved_words = reserved_words_input.split(\",\") \n",
    "\n",
    "for word in reserved_words:  \n",
    "\n",
    "    word = word.strip()\n",
    "\n",
    "    text = text.replace(word, word.upper())\n",
    "\n",
    "print(\"Измененный текст:\")\n",
    "\n",
    "print(text)"
   ]
  },
  {
   "cell_type": "code",
   "execution_count": 6,
   "metadata": {},
   "outputs": [
    {
     "name": "stdout",
     "output_type": "stream",
     "text": [
      "Количество предложений: 1\n"
     ]
    }
   ],
   "source": [
    "text = input(\"Введите текст: \")\n",
    "\n",
    "sentence_endings = ['.', '!', '?']\n",
    "sentence_count = 0\n",
    "\n",
    "\n",
    "for char in text:\n",
    "    if char in sentence_endings:\n",
    "        sentence_count += 1\n",
    "\n",
    "print(\"Количество предложений:\", sentence_count)"
   ]
  }
 ],
 "metadata": {
  "kernelspec": {
   "display_name": "Python 3",
   "language": "python",
   "name": "python3"
  },
  "language_info": {
   "codemirror_mode": {
    "name": "ipython",
    "version": 3
   },
   "file_extension": ".py",
   "mimetype": "text/x-python",
   "name": "python",
   "nbconvert_exporter": "python",
   "pygments_lexer": "ipython3",
   "version": "3.12.6"
  }
 },
 "nbformat": 4,
 "nbformat_minor": 2
}
