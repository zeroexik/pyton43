{
 "cells": [
  {
   "cell_type": "markdown",
   "metadata": {},
   "source": [
    "### Выполните все задания"
   ]
  },
  {
   "cell_type": "markdown",
   "metadata": {},
   "source": [
    "**1. Переменные и типы данных:**\n",
    "\n",
    "   * Создайте переменную `name` и присвойте ей ваше имя в виде строки.\n",
    "   * Создайте переменную `age` и присвойте ей ваш возраст в виде целого числа.\n",
    "   * Создайте переменную `is_student` и присвойте ей значение `True`, если вы студент (не Академии ТОР, а вуза), и `False` в противном случае.\n",
    "   * Выведите на экран значения всех трех переменных, используя функцию `print()`.\n",
    "   * Измените значение переменной `age` на новое число и снова выведите ее на экран."
   ]
  },
  {
   "cell_type": "code",
   "execution_count": 9,
   "metadata": {},
   "outputs": [
    {
     "name": "stdout",
     "output_type": "stream",
     "text": [
      "Имя: Иван\n",
      "Возраст: 30\n",
      "Студент: false\n",
      "15\n"
     ]
    }
   ],
   "source": [
    "name = 'Иван'\n",
    "age = 30\n",
    "is_student = 'false'\n",
    "print(\"Имя:\", name)\n",
    "print(\"Возраст:\", age)\n",
    "print(\"Студент:\", is_student)\n",
    "age = 15\n",
    "print(age)\n"
   ]
  },
  {
   "cell_type": "markdown",
   "metadata": {},
   "source": [
    "**2. Математические операции:**\n",
    "\n",
    "   * Создайте переменные `a` и `b` и присвойте им значения 5 и 10 соответственно.\n",
    "   * Вычислите сумму, разность, произведение и частное от деления переменных `a` и `b`.\n",
    "   * Используйте оператор модуля (%), чтобы найти остаток от деления `b` на `a`.\n",
    "   * Выведите на экран результаты всех операций."
   ]
  },
  {
   "cell_type": "markdown",
   "metadata": {},
   "source": []
  },
  {
   "cell_type": "code",
   "execution_count": null,
   "metadata": {},
   "outputs": [],
   "source": [
    "a = 5\n",
    "b = 10\n",
    "sum_result = a + b\n",
    "difference = b - a\n",
    "product = a * b\n",
    "division = b / a\n",
    "remainder = b % a\n",
    "print(\"Сумма:\", sum_result)\n",
    "print(\"Разность:\", difference)\n",
    "print(\"Произведение:\", product)\n",
    "print(\"Частное:\", division)\n",
    "print(\"Остаток от деления b на a:\", remainder)"
   ]
  },
  {
   "cell_type": "markdown",
   "metadata": {},
   "source": [
    "**3. Строковые операции:**\n",
    "\n",
    "   * Создайте переменную `message` и присвойте ей строку \"Привет, мир!\".\n",
    "   * Используйте метод `upper()` для преобразования строки в верхний регистр.\n",
    "   * Используйте метод `lower()` для преобразования строки в нижний регистр.\n",
    "   * Используйте метод `replace()` для замены слова \"мир\" на \"вселенная\" в строке.\n",
    "   * Выведите на экран все полученные результаты."
   ]
  },
  {
   "cell_type": "code",
   "execution_count": 10,
   "metadata": {},
   "outputs": [
    {
     "ename": "NameError",
     "evalue": "name 'message' is not defined",
     "output_type": "error",
     "traceback": [
      "\u001b[1;31m---------------------------------------------------------------------------\u001b[0m",
      "\u001b[1;31mNameError\u001b[0m                                 Traceback (most recent call last)",
      "Cell \u001b[1;32mIn[10], line 2\u001b[0m\n\u001b[0;32m      1\u001b[0m massage \u001b[38;5;241m=\u001b[39m \u001b[38;5;124m\"\u001b[39m\u001b[38;5;124mПривет, мир!\u001b[39m\u001b[38;5;124m\"\u001b[39m\n\u001b[1;32m----> 2\u001b[0m upper_message \u001b[38;5;241m=\u001b[39m \u001b[43mmessage\u001b[49m\u001b[38;5;241m.\u001b[39mupper()\n\u001b[0;32m      3\u001b[0m lower_message \u001b[38;5;241m=\u001b[39m lower_message()\n\u001b[0;32m      4\u001b[0m replaced_message \u001b[38;5;241m=\u001b[39m message\u001b[38;5;241m.\u001b[39mreplace(\u001b[38;5;124m\"\u001b[39m\u001b[38;5;124mмир\u001b[39m\u001b[38;5;124m\"\u001b[39m, \u001b[38;5;124m\"\u001b[39m\u001b[38;5;124mвселенная\u001b[39m\u001b[38;5;124m\"\u001b[39m)\n",
      "\u001b[1;31mNameError\u001b[0m: name 'message' is not defined"
     ]
    }
   ],
   "source": [
    "massage = \"Привет, мир!\"\n",
    "upper_message = message.upper()\n",
    "lower_message = lower_message()\n",
    "replaced_message = message.replace(\"мир\", \"вселенная\")\n",
    "print(\"Верхний регистр:\", upper_message)\n",
    "print(\"Нижний регистр:\", lower_message)\n",
    "print(\"заменa:\", replaced_message)"
   ]
  },
  {
   "cell_type": "markdown",
   "metadata": {},
   "source": [
    "**4. Ввод и вывод:**\n",
    "\n",
    "   * Используйте функцию `input()` для получения имени пользователя с клавиатуры.\n",
    "   * Сохраните введенное имя в переменную `username`.\n",
    "   * Используйте функцию `print()` для вывода приветствия пользователю, используя его имя.\n",
    "   * Например, если пользователь введет \"Иван\", вы должны вывести \"Привет, Иван!\"."
   ]
  },
  {
   "cell_type": "code",
   "execution_count": null,
   "metadata": {},
   "outputs": [],
   "source": [
    "username = input('введите ваше имя')\n",
    "print('вы ввели данное имя', username )\n",
    "\n",
    "username = input('ввкдите ваше имя')\n",
    "print('привет,' + username + '!')"
   ]
  },
  {
   "cell_type": "markdown",
   "metadata": {},
   "source": [
    "**5. Дополнительные задания:**\n",
    "\n",
    "   * Создайте список с различными типами данных (например, строка, целое число, список, словарь).\n",
    "   * Добавьте в список новый элемент.\n",
    "   * Удалите элемент из списка.\n",
    "   * Измените значение элемента в списке.\n",
    "   * Предложите пользователю ввести что-то и пусть его ввод добавится в конец списка\n",
    "   * Выведите на экран содержимое списка."
   ]
  },
  {
   "cell_type": "code",
   "execution_count": 21,
   "metadata": {},
   "outputs": [
    {
     "name": "stdout",
     "output_type": "stream",
     "text": [
      "3.14 ['строка', 42, [1, 2, 3], {'ключ': 'значение'}, 3.14]\n",
      "['строка', [1, 2, 3], {'ключ': 'значение'}, 3.14]\n",
      "новая строка ['новая строка', [1, 2, 3], {'ключ': 'значение'}, 3.14]\n",
      "новый список ['новая строка', [1, 2, 3], {'ключ': 'значение'}, 3.14, '342']\n"
     ]
    }
   ],
   "source": [
    "my_list = [\"строка\", 42, [1, 2, 3], {\"ключ\": \"значение\"}]\n",
    "\n",
    "my_list.append(3.14)\n",
    "print(3.14, my_list)\n",
    "my_list.remove(42)\n",
    "print(my_list)\n",
    "my_list[0] = \"новая строка\"\n",
    "print(\"новая строка\", my_list)\n",
    "user_input = input(\"новый список\")\n",
    "my_list.append(user_input)\n",
    "print(\"новый список\", my_list)"
   ]
  },
  {
   "cell_type": "markdown",
   "metadata": {},
   "source": [
    "#### Выполненную тетрадку загрузить на свой гитхаб в папку \"HW_2024_09_16\" и скинуть мне ссылку на нее."
   ]
  }
 ],
 "metadata": {
  "kernelspec": {
   "display_name": "Python 3",
   "language": "python",
   "name": "python3"
  },
  "language_info": {
   "codemirror_mode": {
    "name": "ipython",
    "version": 3
   },
   "file_extension": ".py",
   "mimetype": "text/x-python",
   "name": "python",
   "nbconvert_exporter": "python",
   "pygments_lexer": "ipython3",
   "version": "3.12.6"
  }
 },
 "nbformat": 4,
 "nbformat_minor": 2
}
